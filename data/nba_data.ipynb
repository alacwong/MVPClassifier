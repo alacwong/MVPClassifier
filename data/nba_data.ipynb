{
 "cells": [
  {
   "cell_type": "code",
   "execution_count": 1,
   "metadata": {
    "pycharm": {
     "name": "#%%\n"
    }
   },
   "outputs": [],
   "source": [
    "from bs4 import BeautifulSoup\n",
    "from requests import get\n",
    "import pandas as pd"
   ]
  },
  {
   "cell_type": "code",
   "execution_count": null,
   "metadata": {
    "pycharm": {
     "is_executing": true
    }
   },
   "outputs": [],
   "source": [
    "### Each cell is to play with datam so I can get familiar with the format. This way I can parse the data correctly\n",
    "### when I add it to be database to then be trained\n",
    "\n",
    "test = 'https://www.basketball-reference.com/leagues/NBA_2016_per_game.html'\n",
    "response = get(test)\n",
    "soup = BeautifulSoup(response.text, 'html.parser')\n",
    "\n",
    "header_str = \"Player\tPos\tAge\tTm\tG\tGS\tMP\tFG\tFGA\tFG%\t3P\t3PA\t3P%\t2P\t2PA\t2P%\\teFG%\\tFT\tFTA\tFT%\tORB\tDRB\tTRB\t\" \\\n",
    "          \"AST\tSTL\tBLK\tTOV\tPF\tPTS \"\n",
    "\n",
    "# table headers for each stat\n",
    "headers = [header.strip() for header in header_str.split('\\t')]\n",
    "\n",
    "table = soup.find_all('td')\n",
    "table_data = [t.text for t in table] # convert table matrix to list\n",
    "\n",
    "num_rows = int(len(table_data)/len(headers))\n",
    "row_length = len(headers)\n",
    "\n",
    "players = []\n",
    "\n",
    "\n",
    "def fun(x):\n",
    "    try:\n",
    "        return float(x)\n",
    "    except ValueError:\n",
    "        return x\n",
    "\n",
    "\n",
    "for i in range(0, len(table_data), row_length):\n",
    "    # row for player\n",
    "    row = table_data[i: i+row_length]\n",
    "    # convert to dict\n",
    "    player = {headers[i]:fun(row[i]) for i in range(row_length)}\n",
    "    players.append(player)\n",
    "    \n",
    "\n",
    "# create new headers bc not all labels tell the correct story\n",
    "labels = headers[:]\n",
    "labels.remove('AGE')\n",
    "labels.remove('TM')\n",
    "\n",
    "\n",
    "pt = pd.DataFrame(players)\n",
    "test = pt[['Player', 'PTS']]\n",
    "print(pt)\n",
    "\n",
    "\n",
    "\n",
    "\n",
    "# find which columns need to be refactored to floats\n",
    "for column in pt:\n",
    "    print(column, pt[column].dtype)\n",
    "\n",
    "print(len(table_data), num_rows, row_length)\n",
    "print('There are ', len(players), ' in 2015/2016 nba season')\n",
    "    \n",
    "    \n",
    "\n"
   ]
  },
  {
   "cell_type": "code",
   "execution_count": 25,
   "metadata": {
    "pycharm": {
     "is_executing": true,
     "name": "#%%\n"
    }
   },
   "outputs": [
    {
     "name": "stdout",
     "output_type": "stream",
     "text": [
      "{'/teams/BOS/2017.html': 0.646, '/teams/CLE/2017.html': 0.622, '/teams/TOR/2017.html': 0.622, '/teams/WAS/2017.html': 0.598, '/teams/ATL/2017.html': 0.524, '/teams/MIL/2017.html': 0.512, '/teams/IND/2017.html': 0.512, '/teams/CHI/2017.html': 0.5, '/teams/MIA/2017.html': 0.5, '/teams/DET/2017.html': 0.451, '/teams/CHO/2017.html': 0.439, '/teams/NYK/2017.html': 0.378, '/teams/ORL/2017.html': 0.354, '/teams/PHI/2017.html': 0.341, '/teams/BRK/2017.html': 0.244}\n",
      "{'/teams/GSW/2017.html': 0.817, '/teams/SAS/2017.html': 0.744, '/teams/HOU/2017.html': 0.671, '/teams/LAC/2017.html': 0.622, '/teams/UTA/2017.html': 0.622, '/teams/OKC/2017.html': 0.573, '/teams/MEM/2017.html': 0.524, '/teams/POR/2017.html': 0.5, '/teams/DEN/2017.html': 0.488, '/teams/NOP/2017.html': 0.415, '/teams/DAL/2017.html': 0.402, '/teams/SAC/2017.html': 0.39, '/teams/MIN/2017.html': 0.378, '/teams/LAL/2017.html': 0.317, '/teams/PHO/2017.html': 0.293}\n"
     ]
    }
   ],
   "source": [
    "### cell for scraping games won\n",
    "\n",
    "response = get('https://www.basketball-reference.com/leagues/NBA_2017_standings.html')\n",
    "soup = BeautifulSoup(response.text, 'html.parser')\n",
    "\n",
    "tables = soup.find_all('td')\n",
    "l = [table for table in tables]\n",
    "\n",
    "\n",
    "# filtering functions\n",
    "def east_function(element):\n",
    "    return [] != element.find_all('th', attrs={'aria-label':\"Eastern Conference\"})\n",
    "\n",
    "def west_function(element):\n",
    "    return [] != element.find_all('th', attrs={'aria-label':\"Western Conference\"})\n",
    "\n",
    "# isolate for correct table\n",
    "east = list(filter(east_function, l))[0] \n",
    "west = list(filter(west_function, l))[0]\n",
    "\n",
    "\n",
    "# setup dictionary for team_link -> winrate for season\n",
    "wr = east.find_all('td', attrs={\"data-stat\":'win_loss_pct'})\n",
    "teams = east.find_all('a')\n",
    "east_data = {teams[i]['href']: float(wr[i].text) for i in range(len(wr))}\n",
    "\n",
    "wr = west.find_all('td', attrs={\"data-stat\":'win_loss_pct'})\n",
    "teams = west.find_all('a')\n",
    "west_data = {teams[i]['href']: float(wr[i].text) for i in range(len(wr))}\n",
    "\n",
    "print(east_data)\n",
    "print(west_data)\n"
   ]
  },
  {
   "cell_type": "code",
   "execution_count": null,
   "metadata": {
    "pycharm": {
     "is_executing": true
    }
   },
   "outputs": [],
   "source": []
  },
  {
   "cell_type": "code",
   "execution_count": null,
   "metadata": {
    "pycharm": {
     "is_executing": true
    }
   },
   "outputs": [],
   "source": []
  }
 ],
 "metadata": {
  "kernelspec": {
   "display_name": "Python 3",
   "language": "python",
   "name": "python3"
  },
  "language_info": {
   "codemirror_mode": {
    "name": "ipython",
    "version": 3
   },
   "file_extension": ".py",
   "mimetype": "text/x-python",
   "name": "python",
   "nbconvert_exporter": "python",
   "pygments_lexer": "ipython3",
   "version": "3.8.5"
  }
 },
 "nbformat": 4,
 "nbformat_minor": 1
}